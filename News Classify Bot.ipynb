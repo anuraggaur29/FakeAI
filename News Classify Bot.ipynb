{
 "cells": [
  {
   "cell_type": "code",
   "execution_count": 1,
   "id": "0b1bf4b3-9a14-49c0-8050-16862031e8fb",
   "metadata": {},
   "outputs": [],
   "source": [
    "import telepot\n",
    "import openai\n",
    "import nltk\n",
    "#nltk.download('punkt')\n",
    "#nltk.download('stopwords')\n",
    "import pandas as pd\n",
    "from nltk.tokenize import word_tokenize\n",
    "from nltk.stem.snowball import SnowballStemmer\n",
    "from nltk.corpus import stopwords\n",
    "from sklearn.feature_extraction.text import CountVectorizer\n",
    "from sklearn.model_selection import train_test_split\n",
    "from sklearn.naive_bayes import GaussianNB\n",
    "from sklearn.metrics import accuracy_score"
   ]
  },
  {
   "cell_type": "code",
   "execution_count": 2,
   "id": "07bf6953-de62-4b89-82db-3be0bcf55322",
   "metadata": {},
   "outputs": [],
   "source": [
    "fake = pd.read_csv('Fake.csv')\n",
    "true = pd.read_csv('True.csv')\n",
    "\n",
    "fake['target'] = 0\n",
    "true['target'] = 1\n",
    "\n",
    "data = pd.concat([fake,true], axis=0)\n",
    "date = data.reset_index(drop=True)\n",
    "\n",
    "data=data.drop(['subject', 'date', 'title'], axis=1)"
   ]
  },
  {
   "cell_type": "code",
   "execution_count": 3,
   "id": "8fb8530e-9d92-45e9-9db9-3ed67e93ff42",
   "metadata": {},
   "outputs": [],
   "source": [
    "stemmer = SnowballStemmer('english')\n",
    "stop_words = stopwords.words('english')"
   ]
  },
  {
   "cell_type": "code",
   "execution_count": 4,
   "id": "dbb31f77-299f-45ec-a30b-189014e90254",
   "metadata": {},
   "outputs": [],
   "source": [
    "def preprocess_text(text):\n",
    "    tokens = word_tokenize(text)\n",
    "    stemmed_tokens = [stemmer.stem(token) for token in tokens]\n",
    "    filtered_tokens = [token for token in stemmed_tokens if token not in stop_words]\n",
    "    preprocessed_text = ' '.join(filtered_tokens)\n",
    "    return preprocessed_text"
   ]
  },
  {
   "cell_type": "code",
   "execution_count": 5,
   "id": "11b4bf13-1a25-4da2-a8e6-8392cbaa923c",
   "metadata": {},
   "outputs": [],
   "source": [
    "data['text']=data['text'].apply(preprocess_text)\n",
    "\n",
    "cv = CountVectorizer(max_features = 1500)\n",
    "X = cv.fit_transform(data['text']).toarray()\n",
    "y = data['target'].values"
   ]
  },
  {
   "cell_type": "code",
   "execution_count": 6,
   "id": "8788382c-6347-4de1-8145-dae683669e12",
   "metadata": {},
   "outputs": [],
   "source": [
    "X_train, X_test, y_train, y_test = train_test_split(X, y, test_size=0.2)"
   ]
  },
  {
   "cell_type": "code",
   "execution_count": 7,
   "id": "c8869544-49eb-4c34-abfa-d2364b47044d",
   "metadata": {},
   "outputs": [],
   "source": [
    "gnb = GaussianNB()\n",
    "gnb.fit(X_train, y_train)\n",
    "y_pred = gnb.predict(X_test)"
   ]
  },
  {
   "cell_type": "code",
   "execution_count": 8,
   "id": "ae4999af-2ef7-421e-9e9c-b7327cbac729",
   "metadata": {},
   "outputs": [
    {
     "name": "stdout",
     "output_type": "stream",
     "text": [
      "88.94209354120267\n"
     ]
    }
   ],
   "source": [
    "acc = accuracy_score\n",
    "print((acc(y_pred, y_test))*100)"
   ]
  },
  {
   "cell_type": "code",
   "execution_count": 9,
   "id": "91945ec3-8bd9-4702-b968-ab078a4a24bc",
   "metadata": {},
   "outputs": [],
   "source": [
    "TOKEN = '6634845571:AAHjdg54lWWxwom2uWo38aPHqBV09P6tovc'"
   ]
  },
  {
   "cell_type": "code",
   "execution_count": 10,
   "id": "492ecef6-fc72-4d34-a609-7816a9c5dc0c",
   "metadata": {},
   "outputs": [],
   "source": [
    "def handle(msg):\n",
    "    content_type, chat_type, chat_id = telepot.glance(msg)\n",
    "    if content_type == 'text':\n",
    "        msg=msg['text']\n",
    "        preprocessed_text = preprocess_text(msg)\n",
    "\n",
    "        X_new = cv.transform([preprocessed_text]).toarray()\n",
    "        y_pred_new = gnb.predict(X_new)\n",
    "\n",
    "        if y_pred_new[0] == 0:\n",
    "            bot.sendMessage(chat_id, \"Fake News\")\n",
    "        else:\n",
    "            bot.sendMessage(chat_id, \"True News\")"
   ]
  },
  {
   "cell_type": "code",
   "execution_count": 11,
   "id": "68d199b7-b492-4ea9-850a-f0824bef56bf",
   "metadata": {},
   "outputs": [
    {
     "name": "stdout",
     "output_type": "stream",
     "text": [
      "Listening for messages...\n"
     ]
    }
   ],
   "source": [
    "if __name__ == '__main__':\n",
    "    bot = telepot.Bot(TOKEN)\n",
    "    bot.message_loop(handle)\n",
    "\n",
    "    print(\"Listening for messages...\")\n",
    "\n",
    "    while True:\n",
    "        pass\n"
   ]
  },
  {
   "cell_type": "code",
   "execution_count": null,
   "id": "f5c4e22a-e9bc-4999-a381-87a8ab31bd63",
   "metadata": {},
   "outputs": [],
   "source": []
  }
 ],
 "metadata": {
  "kernelspec": {
   "display_name": "Python 3 (ipykernel)",
   "language": "python",
   "name": "python3"
  },
  "language_info": {
   "codemirror_mode": {
    "name": "ipython",
    "version": 3
   },
   "file_extension": ".py",
   "mimetype": "text/x-python",
   "name": "python",
   "nbconvert_exporter": "python",
   "pygments_lexer": "ipython3",
   "version": "3.10.12"
  }
 },
 "nbformat": 4,
 "nbformat_minor": 5
}
